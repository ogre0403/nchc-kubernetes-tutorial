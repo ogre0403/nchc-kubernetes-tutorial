{
 "cells": [
  {
   "cell_type": "code",
   "execution_count": 1,
   "metadata": {},
   "outputs": [
    {
     "name": "stderr",
     "output_type": "stream",
     "text": [
      "/usr/local/lib/python2.7/dist-packages/h5py/__init__.py:36: FutureWarning: Conversion of the second argument of issubdtype from `float` to `np.floating` is deprecated. In future, it will be treated as `np.float64 == np.dtype(float).type`.\n",
      "  from ._conv import register_converters as _register_converters\n"
     ]
    },
    {
     "name": "stdout",
     "output_type": "stream",
     "text": [
      "WARNING:tensorflow:From <ipython-input-1-ab0478332692>:23: __init__ (from tensorflow.python.training.supervisor) is deprecated and will be removed in a future version.\n",
      "Instructions for updating:\n",
      "Please switch to tf.train.MonitoredTrainingSession\n",
      "INFO:tensorflow:Starting standard services.\n",
      "WARNING:tensorflow:Standard services need a 'logdir' passed to the SessionManager\n",
      "INFO:tensorflow:Starting queue runners.\n",
      "[-0.90153706  1.0298105 ]\n",
      "[-0.6999155  1.2275728]\n",
      "[-0.4986968  1.4249399]\n",
      "[-0.2978802  1.6219127]\n",
      "[-0.09746491  1.8184922 ]\n",
      "[0.10254993 2.0146785 ]\n",
      "[0.30216506 2.210473  ]\n",
      "[0.5013814 2.4058762]\n",
      "[0.7001996 2.6008887]\n",
      "[0.8986206 2.7955117]\n"
     ]
    }
   ],
   "source": [
    "\"\"\"The non-distributed solution to the problem.\n",
    "\n",
    "Author: Tommy Mulc\n",
    "\"\"\"\n",
    "\n",
    "from __future__ import print_function\n",
    "import tensorflow as tf\n",
    "import time\n",
    "\n",
    "def main():\n",
    "  # Graph\n",
    "  with tf.device('/cpu:0'):\n",
    "    a = tf.Variable(tf.truncated_normal(shape=[2]),dtype=tf.float32)\n",
    "    b = tf.Variable(tf.truncated_normal(shape=[2]),dtype=tf.float32)\n",
    "    c=a+b\n",
    "\n",
    "    target = tf.constant(100.,shape=[2],dtype=tf.float32)\n",
    "    loss = tf.reduce_mean(tf.square(c-target))\n",
    "  \n",
    "    opt = tf.train.GradientDescentOptimizer(.0001).minimize(loss)\n",
    "\n",
    "  # Session\n",
    "  sv = tf.train.Supervisor()\n",
    "  sess = sv.prepare_or_wait_for_session()\n",
    "  for i in range(100):\n",
    "    sess.run(opt)\n",
    "    if i % 10 == 0:\n",
    "      r = sess.run(c)\n",
    "      print(r)\n",
    "    time.sleep(.1)\n",
    "\n",
    "if __name__ == '__main__':\n",
    "  main()"
   ]
  },
  {
   "cell_type": "code",
   "execution_count": null,
   "metadata": {},
   "outputs": [],
   "source": []
  }
 ],
 "metadata": {
  "kernelspec": {
   "display_name": "Python 2",
   "language": "python",
   "name": "python2"
  },
  "language_info": {
   "codemirror_mode": {
    "name": "ipython",
    "version": 2
   },
   "file_extension": ".py",
   "mimetype": "text/x-python",
   "name": "python",
   "nbconvert_exporter": "python",
   "pygments_lexer": "ipython2",
   "version": "2.7.12"
  }
 },
 "nbformat": 4,
 "nbformat_minor": 2
}
